{
 "cells": [
  {
   "cell_type": "code",
   "execution_count": 1,
   "metadata": {},
   "outputs": [],
   "source": [
    "url = \"http://api.openweathermap.org/data/2.5/weather?q={city_name}&appid={key}\"\n",
    "key = \"8334f02e4b7b7594e134e0c66c2d3822\""
   ]
  },
  {
   "cell_type": "code",
   "execution_count": 2,
   "metadata": {},
   "outputs": [
    {
     "data": {
      "text/plain": [
       "'http://api.openweathermap.org/data/2.5/weather?q=jaipur&appid=8334f02e4b7b7594e134e0c66c2d3822'"
      ]
     },
     "execution_count": 2,
     "metadata": {},
     "output_type": "execute_result"
    }
   ],
   "source": [
    "url.format(city_name=\"jaipur\",key=key)"
   ]
  },
  {
   "cell_type": "code",
   "execution_count": 3,
   "metadata": {},
   "outputs": [
    {
     "name": "stdout",
     "output_type": "stream",
     "text": [
      "Enter city name : jaipur\n",
      "{'coord': {'lon': 75.82, 'lat': 26.92}, 'weather': [{'id': 721, 'main': 'Haze', 'description': 'haze', 'icon': '50n'}], 'base': 'stations', 'main': {'temp': 300.15, 'pressure': 1000, 'humidity': 88, 'temp_min': 300.15, 'temp_max': 300.15}, 'visibility': 3000, 'wind': {'speed': 2.6, 'deg': 350}, 'clouds': {'all': 75}, 'dt': 1565880141, 'sys': {'type': 1, 'id': 9170, 'message': 0.008, 'country': 'IN', 'sunrise': 1565828881, 'sunset': 1565876091}, 'timezone': 19800, 'id': 1269515, 'name': 'Jaipur', 'cod': 200}\n"
     ]
    }
   ],
   "source": [
    "city = input(\"Enter city name : \")\n",
    "url = url.format(city_name = city,key=key)\n",
    "import requests\n",
    "\n",
    "data = requests.get(url)\n",
    "print(data.json())"
   ]
  },
  {
   "cell_type": "code",
   "execution_count": 4,
   "metadata": {},
   "outputs": [],
   "source": [
    "d = data.json()"
   ]
  },
  {
   "cell_type": "code",
   "execution_count": 5,
   "metadata": {},
   "outputs": [
    {
     "data": {
      "text/plain": [
       "dict_keys(['coord', 'weather', 'base', 'main', 'visibility', 'wind', 'clouds', 'dt', 'sys', 'timezone', 'id', 'name', 'cod'])"
      ]
     },
     "execution_count": 5,
     "metadata": {},
     "output_type": "execute_result"
    }
   ],
   "source": [
    "d.keys()"
   ]
  },
  {
   "cell_type": "code",
   "execution_count": 6,
   "metadata": {},
   "outputs": [
    {
     "data": {
      "text/plain": [
       "'Jaipur'"
      ]
     },
     "execution_count": 6,
     "metadata": {},
     "output_type": "execute_result"
    }
   ],
   "source": [
    "d['name']"
   ]
  },
  {
   "cell_type": "code",
   "execution_count": 7,
   "metadata": {},
   "outputs": [
    {
     "data": {
      "text/plain": [
       "'Haze'"
      ]
     },
     "execution_count": 7,
     "metadata": {},
     "output_type": "execute_result"
    }
   ],
   "source": [
    "d['weather'][0]['main']"
   ]
  },
  {
   "cell_type": "code",
   "execution_count": 8,
   "metadata": {},
   "outputs": [
    {
     "data": {
      "text/plain": [
       "27.149999999999977"
      ]
     },
     "execution_count": 8,
     "metadata": {},
     "output_type": "execute_result"
    }
   ],
   "source": [
    "a = d['main']['temp'] - 273\n",
    "a"
   ]
  },
  {
   "cell_type": "code",
   "execution_count": 9,
   "metadata": {},
   "outputs": [
    {
     "data": {
      "text/plain": [
       "1000"
      ]
     },
     "execution_count": 9,
     "metadata": {},
     "output_type": "execute_result"
    }
   ],
   "source": [
    "d['main']['pressure']"
   ]
  },
  {
   "cell_type": "code",
   "execution_count": 13,
   "metadata": {},
   "outputs": [
    {
     "name": "stdout",
     "output_type": "stream",
     "text": [
      "9.360000000000001 k/s\n"
     ]
    }
   ],
   "source": [
    "print(d['wind']['speed']*18/5,\"k/s\")"
   ]
  },
  {
   "cell_type": "code",
   "execution_count": 16,
   "metadata": {},
   "outputs": [
    {
     "data": {
      "text/plain": [
       "{'coord': {'lon': 75.82, 'lat': 26.92},\n",
       " 'weather': [{'id': 721,\n",
       "   'main': 'Haze',\n",
       "   'description': 'haze',\n",
       "   'icon': '50n'}],\n",
       " 'base': 'stations',\n",
       " 'main': {'temp': 300.15,\n",
       "  'pressure': 1000,\n",
       "  'humidity': 88,\n",
       "  'temp_min': 300.15,\n",
       "  'temp_max': 300.15},\n",
       " 'visibility': 3000,\n",
       " 'wind': {'speed': 2.6, 'deg': 350},\n",
       " 'clouds': {'all': 75},\n",
       " 'dt': 1565880141,\n",
       " 'sys': {'type': 1,\n",
       "  'id': 9170,\n",
       "  'message': 0.008,\n",
       "  'country': 'IN',\n",
       "  'sunrise': 1565828881,\n",
       "  'sunset': 1565876091},\n",
       " 'timezone': 19800,\n",
       " 'id': 1269515,\n",
       " 'name': 'Jaipur',\n",
       " 'cod': 200}"
      ]
     },
     "execution_count": 16,
     "metadata": {},
     "output_type": "execute_result"
    }
   ],
   "source": [
    "d"
   ]
  },
  {
   "cell_type": "code",
   "execution_count": 19,
   "metadata": {},
   "outputs": [
    {
     "name": "stdout",
     "output_type": "stream",
     "text": [
      "http://openweathermap.org/img/wn/50n@2x.png\n",
      "50n\n"
     ]
    }
   ],
   "source": [
    "code = d['weather'][0]['icon']\n",
    "icon_url = f\"http://openweathermap.org/img/wn/{code}@2x.png\"\n",
    "print(icon_url)\n",
    "print(code)"
   ]
  },
  {
   "cell_type": "code",
   "execution_count": 18,
   "metadata": {},
   "outputs": [
    {
     "data": {
      "image/png": "[encoded data removed]",
      "text/plain": [
       "<PIL.PngImagePlugin.PngImageFile image mode=RGBA size=100x100 at 0x13413917128>"
      ]
     },
     "execution_count": 18,
     "metadata": {},
     "output_type": "execute_result"
    }
   ],
   "source": [
    "from PIL import Image\n",
    "fp = open('icon.jpg','wb+')\n",
    "fp.write(requests.get(icon_url).content)\n",
    "fp.close()\n",
    "Image.open(\"icon.jpg\")"
   ]
  },
  {
   "cell_type": "code",
   "execution_count": null,
   "metadata": {},
   "outputs": [],
   "source": []
  }
 ],
 "metadata": {
  "kernelspec": {
   "display_name": "Python 3",
   "language": "python",
   "name": "python3"
  },
  "language_info": {
   "codemirror_mode": {
    "name": "ipython",
    "version": 3
   },
   "file_extension": ".py",
   "mimetype": "text/x-python",
   "name": "python",
   "nbconvert_exporter": "python",
   "pygments_lexer": "ipython3",
   "version": "3.7.3"
  }
 },
 "nbformat": 4,
 "nbformat_minor": 2
}
